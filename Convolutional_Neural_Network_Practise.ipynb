{
  "nbformat": 4,
  "nbformat_minor": 0,
  "metadata": {
    "colab": {
      "provenance": []
    },
    "kernelspec": {
      "name": "python3",
      "display_name": "Python 3"
    },
    "language_info": {
      "name": "python"
    }
  },
  "cells": [
    {
      "cell_type": "code",
      "execution_count": 16,
      "metadata": {
        "id": "P6Uf30GtkjA5"
      },
      "outputs": [],
      "source": [
        "#imp[orting the libraries we would use\n",
        "import tensorflow as tf\n",
        "import matplotlib.pyplot as plt"
      ]
    },
    {
      "cell_type": "markdown",
      "source": [
        "For this practise, we will use the mnist dataset from the keras library."
      ],
      "metadata": {
        "id": "rbnA3OgjlsMl"
      }
    },
    {
      "cell_type": "code",
      "source": [
        "#To get our dataset, \n",
        "data = tf.keras.datasets.mnist"
      ],
      "metadata": {
        "id": "Ux4Y4Dssk0JE"
      },
      "execution_count": 17,
      "outputs": []
    },
    {
      "cell_type": "markdown",
      "source": [
        "**Unpackig the images and digits **"
      ],
      "metadata": {
        "id": "QI65hyUJl45r"
      }
    },
    {
      "cell_type": "code",
      "source": [
        "(X_train,y_train),(X_test, y_test) = data.load_data()"
      ],
      "metadata": {
        "id": "hyMu7s_0l8wz"
      },
      "execution_count": 18,
      "outputs": []
    },
    {
      "cell_type": "markdown",
      "source": [
        "# **Getting to know the dataset**"
      ],
      "metadata": {
        "id": "6FAaBYXmm66o"
      }
    },
    {
      "cell_type": "code",
      "source": [
        "X_train.shape"
      ],
      "metadata": {
        "colab": {
          "base_uri": "https://localhost:8080/"
        },
        "id": "lbV-TO_QnEkP",
        "outputId": "560e7fac-6e49-4f4d-a6cf-ed5c6be2fe94"
      },
      "execution_count": 19,
      "outputs": [
        {
          "output_type": "execute_result",
          "data": {
            "text/plain": [
              "(60000, 28, 28)"
            ]
          },
          "metadata": {},
          "execution_count": 19
        }
      ]
    },
    {
      "cell_type": "markdown",
      "source": [
        "This means that we have 60,000 images for training with each image having a dimension of 28 by 28 (28 height, 28 width)."
      ],
      "metadata": {
        "id": "wRLmJCXGn7Th"
      }
    },
    {
      "cell_type": "code",
      "source": [
        "X_test.shape"
      ],
      "metadata": {
        "colab": {
          "base_uri": "https://localhost:8080/"
        },
        "id": "1-O2O3emnKI-",
        "outputId": "2e89a7b2-ab45-47e7-8ae3-8f54c07da6a9"
      },
      "execution_count": 20,
      "outputs": [
        {
          "output_type": "execute_result",
          "data": {
            "text/plain": [
              "(10000, 28, 28)"
            ]
          },
          "metadata": {},
          "execution_count": 20
        }
      ]
    },
    {
      "cell_type": "markdown",
      "source": [
        "This means that we have 60,000 images for testing with each image having a dimension of 28 by 28 (28 height, 28 width)."
      ],
      "metadata": {
        "id": "ljuFaEiToBTF"
      }
    },
    {
      "cell_type": "code",
      "source": [
        "#getting to knowthe type of our image\n",
        "X_train.dtype"
      ],
      "metadata": {
        "colab": {
          "base_uri": "https://localhost:8080/"
        },
        "id": "RMtFkTi1oiZJ",
        "outputId": "11556c61-6528-4233-babe-f94b80a71c18"
      },
      "execution_count": 21,
      "outputs": [
        {
          "output_type": "execute_result",
          "data": {
            "text/plain": [
              "dtype('uint8')"
            ]
          },
          "metadata": {},
          "execution_count": 21
        }
      ]
    },
    {
      "cell_type": "markdown",
      "source": [
        "we can see that the type of our train data(image) is \"uint8\" which means that the daa is a grey image(a clored image having color scale between 1 and 255)"
      ],
      "metadata": {
        "id": "XOVAUJXkqBzU"
      }
    },
    {
      "cell_type": "code",
      "source": [
        "#we can view the images in our dataset using the imshow function.\n",
        "plt.imshow(X_train[0])"
      ],
      "metadata": {
        "colab": {
          "base_uri": "https://localhost:8080/",
          "height": 282
        },
        "id": "hzDihtKRp_41",
        "outputId": "5c166532-cfd6-4b69-f5c5-06c6062047b7"
      },
      "execution_count": 22,
      "outputs": [
        {
          "output_type": "execute_result",
          "data": {
            "text/plain": [
              "<matplotlib.image.AxesImage at 0x7ff1363f1730>"
            ]
          },
          "metadata": {},
          "execution_count": 22
        },
        {
          "output_type": "display_data",
          "data": {
            "text/plain": [
              "<Figure size 432x288 with 1 Axes>"
            ],
            "image/png": "[encoded data removed]"
          },
          "metadata": {
            "needs_background": "light"
          }
        }
      ]
    },
    {
      "cell_type": "markdown",
      "source": [
        "Imshow takes the numpy array of the images and turns it into the image. We can see from the above that the first image in our dataset is a five."
      ],
      "metadata": {
        "id": "QplmNT_Zqpow"
      }
    },
    {
      "cell_type": "markdown",
      "source": [
        "# **Image Preprocessing**"
      ],
      "metadata": {
        "id": "9L2JSJd9tu1X"
      }
    },
    {
      "cell_type": "markdown",
      "source": [
        "Beforwe build our model, it is necessary to normalise the images as this will accelartae the learning process. We can do this usig the min/max normalisation techiques.\n",
        "\n",
        "Since we know thatour image is a grey scavle image with a range from1 to 255, the mi/max normalisatio gives us a values withi the rageof 0 to 1, we can achieve this normalisatiocan in two ways \n",
        "- Manually dividing the highest and lowest value by hightest value in the scale\n",
        "e.g (0/255) = 0 and (225/225) = 1\n",
        "- usig the utilse mormalisation function in keras"
      ],
      "metadata": {
        "id": "Emy6DM21r3s_"
      }
    },
    {
      "cell_type": "code",
      "source": [
        "#we will do it the manual way\n",
        "X_train_scaled = X_train/255"
      ],
      "metadata": {
        "id": "epmu9L2yujoA"
      },
      "execution_count": 23,
      "outputs": []
    },
    {
      "cell_type": "code",
      "source": [
        "X_test_scaled = X_test/255"
      ],
      "metadata": {
        "id": "4ckYaeXSuyiT"
      },
      "execution_count": 24,
      "outputs": []
    },
    {
      "cell_type": "markdown",
      "source": [
        "# **Model Building**"
      ],
      "metadata": {
        "id": "m-RKaBvhu-2l"
      }
    },
    {
      "cell_type": "markdown",
      "source": [
        "SInce the image we are dealing with is complex, we will e usigthe Convolutional Neural Network. its architecture is as below,\n",
        "- having the first covolutional layer, which tries to help detect the edges of the images. It accepts;\n",
        "  1)input_shape: which is the shape of the image(28,28,1),\n",
        "  2)filters: whichg act like detectors in detecting images. the higher we go, the filters will e icreased, \n",
        "  3)kernel_size is the size we want our filters to be and \n",
        "  4) the activation fuctio we will be usig is the relu\n",
        "- A Maxpooling area  which tries to minize the pixels in the image and also detects more complex patterns on the image.\n",
        "\n",
        "Note: the convolutional and maxpoolig layers will be doubled then after that, we will have our flatteing layer which transforms our 2D image into a 1d array image.\n",
        "\n",
        "After the flatteing layer, we will have the hidden layers which will trasfrom our image."
      ],
      "metadata": {
        "id": "e0nD5-_kwSBN"
      }
    },
    {
      "cell_type": "code",
      "source": [
        "model = tf.keras.models.Sequential([  #the sequential functio accepts everything we have to uild our model\n",
        "    tf.keras.layers.Conv2D(input_shape=(28, 28, 1), filters=32, kernel_size=(3,3), activation=\"relu\"),  #first CNN layer\n",
        "    tf.keras.layers.MaxPool2D(pool_size=(2,2), strides=2),   #first maxpooling layer\n",
        "    tf.keras.layers.Conv2D(filters=64, kernel_size=(3,3), activation=\"relu\"),  #second convolutional layer\n",
        "    tf.keras.layers.MaxPool2D(pool_size=(2,2), strides=2),  #second maxpooling layer\n",
        "    \n",
        "    tf.keras.layers.Flatten(),   #flateening layer\n",
        "    tf.keras.layers.Dense(units=256, activation=\"relu\"),  #first hidden layer\n",
        "    tf.keras.layers.Dense(units=128, activation=\"relu\"),   #second hidde layer\n",
        "    tf.keras.layers.Dense(units=10, activation=\"softmax\")  #output layer\n",
        "])"
      ],
      "metadata": {
        "id": "SitDTaFTvrzB"
      },
      "execution_count": 25,
      "outputs": []
    },
    {
      "cell_type": "markdown",
      "source": [
        "The next thing to do is to complie our model. "
      ],
      "metadata": {
        "id": "btyFxq3Q4wZc"
      }
    },
    {
      "cell_type": "code",
      "source": [
        "model.compile(optimizer =\"adam\", loss=tf.keras.losses.SparseCategoricalCrossentropy(), metrics=\"accuracy\")"
      ],
      "metadata": {
        "id": "93YmfhNL4839"
      },
      "execution_count": 26,
      "outputs": []
    },
    {
      "cell_type": "markdown",
      "source": [
        " The summary helps us prit useful summary of the model which includes:\n",
        "Name and type of all layers in the model, output shape for each layer, number of weight parameters of each layer and the total number of trainable and non-trainable parameters of the model."
      ],
      "metadata": {
        "id": "q96TBt0bk8Hg"
      }
    },
    {
      "cell_type": "code",
      "source": [
        "model.summary()"
      ],
      "metadata": {
        "colab": {
          "base_uri": "https://localhost:8080/"
        },
        "id": "dZaEbbKco7P7",
        "outputId": "816af68c-3d1c-439e-de6c-f3c14d476e67"
      },
      "execution_count": 27,
      "outputs": [
        {
          "output_type": "stream",
          "name": "stdout",
          "text": [
            "Model: \"sequential_1\"\n",
            "_________________________________________________________________\n",
            " Layer (type)                Output Shape              Param #   \n",
            "=================================================================\n",
            " conv2d_2 (Conv2D)           (None, 26, 26, 32)        320       \n",
            "                                                                 \n",
            " max_pooling2d_2 (MaxPooling  (None, 13, 13, 32)       0         \n",
            " 2D)                                                             \n",
            "                                                                 \n",
            " conv2d_3 (Conv2D)           (None, 11, 11, 64)        18496     \n",
            "                                                                 \n",
            " max_pooling2d_3 (MaxPooling  (None, 5, 5, 64)         0         \n",
            " 2D)                                                             \n",
            "                                                                 \n",
            " flatten_1 (Flatten)         (None, 1600)              0         \n",
            "                                                                 \n",
            " dense_3 (Dense)             (None, 256)               409856    \n",
            "                                                                 \n",
            " dense_4 (Dense)             (None, 128)               32896     \n",
            "                                                                 \n",
            " dense_5 (Dense)             (None, 10)                1290      \n",
            "                                                                 \n",
            "=================================================================\n",
            "Total params: 462,858\n",
            "Trainable params: 462,858\n",
            "Non-trainable params: 0\n",
            "_________________________________________________________________\n"
          ]
        }
      ]
    },
    {
      "cell_type": "markdown",
      "source": [
        "# **Training Our Model**"
      ],
      "metadata": {
        "id": "KsVm_u8VpErM"
      }
    },
    {
      "cell_type": "markdown",
      "source": [
        "to train our model, we need to fit the model to the X train. Then, we specifythe validation_data to show us how the model performs at each epoch."
      ],
      "metadata": {
        "id": "HLZgxDU4tR8H"
      }
    },
    {
      "cell_type": "code",
      "source": [
        "model.fit(X_train_scaled, y_train,validation_data = (X_test,y_test), epochs =3)"
      ],
      "metadata": {
        "colab": {
          "base_uri": "https://localhost:8080/"
        },
        "id": "UXVtXGRJpYgX",
        "outputId": "01c084b2-e020-4249-b4fa-9a2070d4f20c"
      },
      "execution_count": 30,
      "outputs": [
        {
          "output_type": "stream",
          "name": "stdout",
          "text": [
            "Epoch 1/3\n",
            "1875/1875 [==============================] - 40s 21ms/step - loss: 0.1231 - accuracy: 0.9617 - val_loss: 5.1760 - val_accuracy: 0.9885\n",
            "Epoch 2/3\n",
            "1875/1875 [==============================] - 39s 21ms/step - loss: 0.0421 - accuracy: 0.9868 - val_loss: 7.4930 - val_accuracy: 0.9878\n",
            "Epoch 3/3\n",
            "1875/1875 [==============================] - 39s 21ms/step - loss: 0.0310 - accuracy: 0.9900 - val_loss: 8.4152 - val_accuracy: 0.9872\n"
          ]
        },
        {
          "output_type": "execute_result",
          "data": {
            "text/plain": [
              "<keras.callbacks.History at 0x7ff13631e3a0>"
            ]
          },
          "metadata": {},
          "execution_count": 30
        }
      ]
    },
    {
      "cell_type": "markdown",
      "source": [
        "We can see that our model is performing well at every stage of the epoch"
      ],
      "metadata": {
        "id": "oez4NxpNr3t5"
      }
    }
  ]
}